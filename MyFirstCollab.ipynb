{
  "nbformat": 4,
  "nbformat_minor": 0,
  "metadata": {
    "colab": {
      "provenance": [],
      "authorship_tag": "ABX9TyMgXePmd7yWPP8WSmQTpTbm",
      "include_colab_link": true
    },
    "kernelspec": {
      "name": "python3",
      "display_name": "Python 3"
    },
    "language_info": {
      "name": "python"
    }
  },
  "cells": [
    {
      "cell_type": "markdown",
      "metadata": {
        "id": "view-in-github",
        "colab_type": "text"
      },
      "source": [
        "<a href=\"https://colab.research.google.com/github/xeniaroda/Google_Collab/blob/main/MyFirstCollab.ipynb\" target=\"_parent\"><img src=\"https://colab.research.google.com/assets/colab-badge.svg\" alt=\"Open In Colab\"/></a>"
      ]
    },
    {
      "cell_type": "code",
      "source": [],
      "metadata": {
        "id": "NbVO9l_hvUPS"
      },
      "execution_count": null,
      "outputs": []
    },
    {
      "cell_type": "code",
      "source": [
        "from google.colab import drive\n",
        "drive.mount('/content/drive')"
      ],
      "metadata": {
        "colab": {
          "base_uri": "https://localhost:8080/"
        },
        "id": "fG77I7z-21dC",
        "outputId": "5ed96033-b166-4bc8-e5bb-a6d0db9a5678"
      },
      "execution_count": 3,
      "outputs": [
        {
          "output_type": "stream",
          "name": "stdout",
          "text": [
            "Mounted at /content/drive\n"
          ]
        }
      ]
    },
    {
      "cell_type": "code",
      "execution_count": 1,
      "metadata": {
        "colab": {
          "base_uri": "https://localhost:8080/"
        },
        "id": "TELZMnfwy4WT",
        "outputId": "994668db-78e1-40d6-b9e5-ae7b8a6be687"
      },
      "outputs": [
        {
          "output_type": "stream",
          "name": "stdout",
          "text": [
            "Tue Oct 11 15:44:53 2022\n"
          ]
        }
      ],
      "source": [
        "import time\n",
        "print ( time.ctime ())"
      ]
    },
    {
      "cell_type": "code",
      "source": [
        "time.sleep (5)\n",
        "print( time.ctime ())"
      ],
      "metadata": {
        "id": "To3sfegDtnD-"
      },
      "execution_count": null,
      "outputs": []
    },
    {
      "cell_type": "markdown",
      "source": [
        "this is **bold**\n",
        "thisis *italic*\n",
        "this is ~ strikethrough ~\n",
        "> Bloque con sangría\n",
        "\n"
      ],
      "metadata": {
        "id": "qXidFs4GuqVd"
      }
    },
    {
      "cell_type": "markdown",
      "source": [
        "$\\ sqrt {3x- 1}+( 1+x)^2$"
      ],
      "metadata": {
        "id": "i2g6X1Sovgp7"
      }
    },
    {
      "cell_type": "code",
      "source": [],
      "metadata": {
        "id": "LO2BmhChvrIa"
      },
      "execution_count": null,
      "outputs": []
    },
    {
      "cell_type": "markdown",
      "source": [
        "$ e^x = \\sum { i = 0}^\\ infty \\frac{1}{i!} x^i $"
      ],
      "metadata": {
        "id": "wlELdi2Kvxd5"
      }
    },
    {
      "cell_type": "markdown",
      "source": [
        "$3x_1 + 6x_2 + x_3 =< 28$"
      ],
      "metadata": {
        "id": "0NOG6voCwJSg"
      }
    }
  ]
}